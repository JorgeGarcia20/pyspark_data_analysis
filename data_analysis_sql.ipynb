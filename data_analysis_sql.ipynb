{
 "cells": [
  {
   "cell_type": "code",
   "execution_count": 61,
   "id": "0eca40d3-0cd5-4da9-94ba-fb7b5b71c977",
   "metadata": {},
   "outputs": [],
   "source": [
    "from pyspark.sql import SparkSession\n",
    "from pyspark.sql.types import StructField, StructType, IntegerType, FloatType, StringType\n",
    "import pandas as pd\n",
    "import matplotlib.pyplot as plt\n",
    "import seaborn as sns"
   ]
  },
  {
   "cell_type": "code",
   "execution_count": 2,
   "id": "ffd1633a-a674-40ea-a8ad-1d32006883dc",
   "metadata": {},
   "outputs": [],
   "source": [
    "spark = SparkSession.builder.getOrCreate()"
   ]
  },
  {
   "cell_type": "code",
   "execution_count": 3,
   "id": "f9939e5b-f055-43d5-9e85-35e084f86821",
   "metadata": {},
   "outputs": [],
   "source": [
    "sc = spark.sparkContext"
   ]
  },
  {
   "cell_type": "markdown",
   "id": "e316f594-8bdb-4a77-a97b-521d166b9b59",
   "metadata": {},
   "source": [
    "## Creando una tabla temporal con el dataset de pinguinos"
   ]
  },
  {
   "cell_type": "code",
   "execution_count": 143,
   "id": "fa5e4908-69a3-4f30-aae5-7a24fd5aa400",
   "metadata": {},
   "outputs": [],
   "source": [
    "# df = pd.read_csv('data/penguins.csv')\n",
    "# df.info()"
   ]
  },
  {
   "cell_type": "code",
   "execution_count": 36,
   "id": "d953a8b0-8d29-461f-9f79-86f641df2c8c",
   "metadata": {},
   "outputs": [],
   "source": [
    "df = spark.read.options(header=True).csv('data/penguins.csv')"
   ]
  },
  {
   "cell_type": "code",
   "execution_count": 37,
   "id": "8bb9ee1c-2e13-41d6-8203-fe6cd01a180f",
   "metadata": {},
   "outputs": [
    {
     "data": {
      "text/plain": [
       "pyspark.sql.dataframe.DataFrame"
      ]
     },
     "execution_count": 37,
     "metadata": {},
     "output_type": "execute_result"
    }
   ],
   "source": [
    "type(df)"
   ]
  },
  {
   "cell_type": "code",
   "execution_count": 32,
   "id": "c28bc97e-59da-4719-bbdb-52c6a9949b2b",
   "metadata": {},
   "outputs": [
    {
     "name": "stdout",
     "output_type": "stream",
     "text": [
      "root\n",
      " |-- species: string (nullable = true)\n",
      " |-- island: string (nullable = true)\n",
      " |-- bill_length_mm: string (nullable = true)\n",
      " |-- bill_depth_mm: string (nullable = true)\n",
      " |-- flipper_length_mm: string (nullable = true)\n",
      " |-- body_mass_g: string (nullable = true)\n",
      " |-- sex: string (nullable = true)\n",
      " |-- year: string (nullable = true)\n",
      "\n"
     ]
    }
   ],
   "source": [
    "df.printSchema()"
   ]
  },
  {
   "cell_type": "code",
   "execution_count": 43,
   "id": "a71be279-2022-429d-b94f-0849fd909ee8",
   "metadata": {},
   "outputs": [],
   "source": [
    "penguins_schema = StructType([\n",
    "    StructField('species', StringType(), True),\n",
    "    StructField('island', StringType(), True),\n",
    "    StructField('bill_length', FloatType(), True),\n",
    "    StructField('bill_depth', FloatType(), True),\n",
    "    StructField('flipper_length_mm', FloatType(), True),\n",
    "    StructField('body_mass_g', FloatType(), True),\n",
    "    StructField('sex', StringType(), True),\n",
    "    StructField('year', StringType(), True)\n",
    "])"
   ]
  },
  {
   "cell_type": "code",
   "execution_count": 44,
   "id": "f445e21e-990f-4adb-b588-e2d7dba63435",
   "metadata": {},
   "outputs": [],
   "source": [
    "df = spark.read.options(header=True).csv('data/penguins.csv', schema=penguins_schema)"
   ]
  },
  {
   "cell_type": "code",
   "execution_count": 45,
   "id": "8fd1dfba-cac4-413f-b428-d305a9f65ebb",
   "metadata": {},
   "outputs": [
    {
     "name": "stdout",
     "output_type": "stream",
     "text": [
      "<class 'pandas.core.frame.DataFrame'>\n",
      "RangeIndex: 344 entries, 0 to 343\n",
      "Data columns (total 8 columns):\n",
      " #   Column             Non-Null Count  Dtype  \n",
      "---  ------             --------------  -----  \n",
      " 0   species            344 non-null    object \n",
      " 1   island             344 non-null    object \n",
      " 2   bill_length        342 non-null    float32\n",
      " 3   bill_depth         342 non-null    float32\n",
      " 4   flipper_length_mm  342 non-null    float32\n",
      " 5   body_mass_g        342 non-null    float32\n",
      " 6   sex                344 non-null    object \n",
      " 7   year               344 non-null    object \n",
      "dtypes: float32(4), object(4)\n",
      "memory usage: 16.2+ KB\n"
     ]
    }
   ],
   "source": [
    "df.toPandas().info()"
   ]
  },
  {
   "cell_type": "code",
   "execution_count": 76,
   "id": "8cbaad95-1ca6-47e7-91a9-5e64c641229d",
   "metadata": {},
   "outputs": [],
   "source": [
    "df = df.dropna(how='any')"
   ]
  },
  {
   "cell_type": "code",
   "execution_count": 77,
   "id": "8650a715-85b8-43d7-a9c6-dbfc566af5a1",
   "metadata": {},
   "outputs": [],
   "source": [
    "df.createOrReplaceTempView(\"penguins\")"
   ]
  },
  {
   "cell_type": "markdown",
   "id": "e024d81c-d7ef-489b-902a-736258da99af",
   "metadata": {},
   "source": [
    "## Ejecutando consultas SQL sobre el dataframe."
   ]
  },
  {
   "cell_type": "code",
   "execution_count": 78,
   "id": "3a14b0df-1d11-436f-a8bf-9d9d08bd36f9",
   "metadata": {},
   "outputs": [
    {
     "data": {
      "text/html": [
       "<div>\n",
       "<style scoped>\n",
       "    .dataframe tbody tr th:only-of-type {\n",
       "        vertical-align: middle;\n",
       "    }\n",
       "\n",
       "    .dataframe tbody tr th {\n",
       "        vertical-align: top;\n",
       "    }\n",
       "\n",
       "    .dataframe thead th {\n",
       "        text-align: right;\n",
       "    }\n",
       "</style>\n",
       "<table border=\"1\" class=\"dataframe\">\n",
       "  <thead>\n",
       "    <tr style=\"text-align: right;\">\n",
       "      <th></th>\n",
       "      <th>species</th>\n",
       "      <th>island</th>\n",
       "      <th>bill_length</th>\n",
       "      <th>bill_depth</th>\n",
       "      <th>flipper_length_mm</th>\n",
       "      <th>body_mass_g</th>\n",
       "      <th>sex</th>\n",
       "      <th>year</th>\n",
       "    </tr>\n",
       "  </thead>\n",
       "  <tbody>\n",
       "    <tr>\n",
       "      <th>0</th>\n",
       "      <td>Adelie</td>\n",
       "      <td>Torgersen</td>\n",
       "      <td>39.099998</td>\n",
       "      <td>18.700001</td>\n",
       "      <td>181.0</td>\n",
       "      <td>3750.0</td>\n",
       "      <td>male</td>\n",
       "      <td>2007</td>\n",
       "    </tr>\n",
       "    <tr>\n",
       "      <th>1</th>\n",
       "      <td>Adelie</td>\n",
       "      <td>Torgersen</td>\n",
       "      <td>39.500000</td>\n",
       "      <td>17.400000</td>\n",
       "      <td>186.0</td>\n",
       "      <td>3800.0</td>\n",
       "      <td>female</td>\n",
       "      <td>2007</td>\n",
       "    </tr>\n",
       "    <tr>\n",
       "      <th>2</th>\n",
       "      <td>Adelie</td>\n",
       "      <td>Torgersen</td>\n",
       "      <td>40.299999</td>\n",
       "      <td>18.000000</td>\n",
       "      <td>195.0</td>\n",
       "      <td>3250.0</td>\n",
       "      <td>female</td>\n",
       "      <td>2007</td>\n",
       "    </tr>\n",
       "    <tr>\n",
       "      <th>3</th>\n",
       "      <td>Adelie</td>\n",
       "      <td>Torgersen</td>\n",
       "      <td>36.700001</td>\n",
       "      <td>19.299999</td>\n",
       "      <td>193.0</td>\n",
       "      <td>3450.0</td>\n",
       "      <td>female</td>\n",
       "      <td>2007</td>\n",
       "    </tr>\n",
       "    <tr>\n",
       "      <th>4</th>\n",
       "      <td>Adelie</td>\n",
       "      <td>Torgersen</td>\n",
       "      <td>39.299999</td>\n",
       "      <td>20.600000</td>\n",
       "      <td>190.0</td>\n",
       "      <td>3650.0</td>\n",
       "      <td>male</td>\n",
       "      <td>2007</td>\n",
       "    </tr>\n",
       "    <tr>\n",
       "      <th>...</th>\n",
       "      <td>...</td>\n",
       "      <td>...</td>\n",
       "      <td>...</td>\n",
       "      <td>...</td>\n",
       "      <td>...</td>\n",
       "      <td>...</td>\n",
       "      <td>...</td>\n",
       "      <td>...</td>\n",
       "    </tr>\n",
       "    <tr>\n",
       "      <th>337</th>\n",
       "      <td>Chinstrap</td>\n",
       "      <td>Dream</td>\n",
       "      <td>55.799999</td>\n",
       "      <td>19.799999</td>\n",
       "      <td>207.0</td>\n",
       "      <td>4000.0</td>\n",
       "      <td>male</td>\n",
       "      <td>2009</td>\n",
       "    </tr>\n",
       "    <tr>\n",
       "      <th>338</th>\n",
       "      <td>Chinstrap</td>\n",
       "      <td>Dream</td>\n",
       "      <td>43.500000</td>\n",
       "      <td>18.100000</td>\n",
       "      <td>202.0</td>\n",
       "      <td>3400.0</td>\n",
       "      <td>female</td>\n",
       "      <td>2009</td>\n",
       "    </tr>\n",
       "    <tr>\n",
       "      <th>339</th>\n",
       "      <td>Chinstrap</td>\n",
       "      <td>Dream</td>\n",
       "      <td>49.599998</td>\n",
       "      <td>18.200001</td>\n",
       "      <td>193.0</td>\n",
       "      <td>3775.0</td>\n",
       "      <td>male</td>\n",
       "      <td>2009</td>\n",
       "    </tr>\n",
       "    <tr>\n",
       "      <th>340</th>\n",
       "      <td>Chinstrap</td>\n",
       "      <td>Dream</td>\n",
       "      <td>50.799999</td>\n",
       "      <td>19.000000</td>\n",
       "      <td>210.0</td>\n",
       "      <td>4100.0</td>\n",
       "      <td>male</td>\n",
       "      <td>2009</td>\n",
       "    </tr>\n",
       "    <tr>\n",
       "      <th>341</th>\n",
       "      <td>Chinstrap</td>\n",
       "      <td>Dream</td>\n",
       "      <td>50.200001</td>\n",
       "      <td>18.700001</td>\n",
       "      <td>198.0</td>\n",
       "      <td>3775.0</td>\n",
       "      <td>female</td>\n",
       "      <td>2009</td>\n",
       "    </tr>\n",
       "  </tbody>\n",
       "</table>\n",
       "<p>342 rows × 8 columns</p>\n",
       "</div>"
      ],
      "text/plain": [
       "       species     island  bill_length  bill_depth  flipper_length_mm  \\\n",
       "0       Adelie  Torgersen    39.099998   18.700001              181.0   \n",
       "1       Adelie  Torgersen    39.500000   17.400000              186.0   \n",
       "2       Adelie  Torgersen    40.299999   18.000000              195.0   \n",
       "3       Adelie  Torgersen    36.700001   19.299999              193.0   \n",
       "4       Adelie  Torgersen    39.299999   20.600000              190.0   \n",
       "..         ...        ...          ...         ...                ...   \n",
       "337  Chinstrap      Dream    55.799999   19.799999              207.0   \n",
       "338  Chinstrap      Dream    43.500000   18.100000              202.0   \n",
       "339  Chinstrap      Dream    49.599998   18.200001              193.0   \n",
       "340  Chinstrap      Dream    50.799999   19.000000              210.0   \n",
       "341  Chinstrap      Dream    50.200001   18.700001              198.0   \n",
       "\n",
       "     body_mass_g     sex  year  \n",
       "0         3750.0    male  2007  \n",
       "1         3800.0  female  2007  \n",
       "2         3250.0  female  2007  \n",
       "3         3450.0  female  2007  \n",
       "4         3650.0    male  2007  \n",
       "..           ...     ...   ...  \n",
       "337       4000.0    male  2009  \n",
       "338       3400.0  female  2009  \n",
       "339       3775.0    male  2009  \n",
       "340       4100.0    male  2009  \n",
       "341       3775.0  female  2009  \n",
       "\n",
       "[342 rows x 8 columns]"
      ]
     },
     "execution_count": 78,
     "metadata": {},
     "output_type": "execute_result"
    }
   ],
   "source": [
    "spark.sql(\n",
    "    \"\"\"\n",
    "    SELECT * FROM penguins;\n",
    "    \"\"\"\n",
    ").toPandas()"
   ]
  },
  {
   "cell_type": "markdown",
   "id": "14eafea3-33fd-443d-bdca-12f36aafbd3c",
   "metadata": {},
   "source": [
    "## ¿Cuantos pinguinos hay cada especie?"
   ]
  },
  {
   "cell_type": "code",
   "execution_count": 79,
   "id": "1cb8c4f0-85f0-4998-b54e-7206af02399f",
   "metadata": {},
   "outputs": [],
   "source": [
    "species_penguin_count = spark.sql(\n",
    "    \"\"\"\n",
    "    SELECT species, COUNT(*) AS count\n",
    "    FROM penguins\n",
    "    GROUP BY species;\n",
    "    \"\"\"\n",
    ").toPandas()"
   ]
  },
  {
   "cell_type": "code",
   "execution_count": 80,
   "id": "c0b5f7f1-43e6-447f-b5fd-3c76abbef7f9",
   "metadata": {},
   "outputs": [
    {
     "data": {
      "text/html": [
       "<div>\n",
       "<style scoped>\n",
       "    .dataframe tbody tr th:only-of-type {\n",
       "        vertical-align: middle;\n",
       "    }\n",
       "\n",
       "    .dataframe tbody tr th {\n",
       "        vertical-align: top;\n",
       "    }\n",
       "\n",
       "    .dataframe thead th {\n",
       "        text-align: right;\n",
       "    }\n",
       "</style>\n",
       "<table border=\"1\" class=\"dataframe\">\n",
       "  <thead>\n",
       "    <tr style=\"text-align: right;\">\n",
       "      <th></th>\n",
       "      <th>species</th>\n",
       "      <th>count</th>\n",
       "    </tr>\n",
       "  </thead>\n",
       "  <tbody>\n",
       "    <tr>\n",
       "      <th>0</th>\n",
       "      <td>Gentoo</td>\n",
       "      <td>123</td>\n",
       "    </tr>\n",
       "    <tr>\n",
       "      <th>1</th>\n",
       "      <td>Adelie</td>\n",
       "      <td>151</td>\n",
       "    </tr>\n",
       "    <tr>\n",
       "      <th>2</th>\n",
       "      <td>Chinstrap</td>\n",
       "      <td>68</td>\n",
       "    </tr>\n",
       "  </tbody>\n",
       "</table>\n",
       "</div>"
      ],
      "text/plain": [
       "     species  count\n",
       "0     Gentoo    123\n",
       "1     Adelie    151\n",
       "2  Chinstrap     68"
      ]
     },
     "execution_count": 80,
     "metadata": {},
     "output_type": "execute_result"
    }
   ],
   "source": [
    "species_penguin_count.head()"
   ]
  },
  {
   "cell_type": "code",
   "execution_count": 124,
   "id": "84a973e6-4d5b-4c53-807e-9c38802bbe8f",
   "metadata": {},
   "outputs": [
    {
     "data": {
      "image/png": "[encoded data removed]",
      "text/plain": [
       "<Figure size 640x480 with 1 Axes>"
      ]
     },
     "metadata": {},
     "output_type": "display_data"
    }
   ],
   "source": [
    "sns.barplot(\n",
    "    data=species_penguin_count,\n",
    "    x='species',\n",
    "    y='count'\n",
    ")\n",
    "plt.show()"
   ]
  },
  {
   "cell_type": "markdown",
   "id": "a5550d41-af12-4478-b0b4-4f5f35dd3a14",
   "metadata": {},
   "source": [
    "## ¿Cuantos pinguinos hay por cada sexo?"
   ]
  },
  {
   "cell_type": "code",
   "execution_count": 91,
   "id": "e27a69c4-88ab-44cd-b4c3-5da66aa8786f",
   "metadata": {},
   "outputs": [],
   "source": [
    "sex_count = spark.sql(\n",
    "    \"\"\"\n",
    "    SELECT sex, COUNT(*) as count\n",
    "    FROM penguins\n",
    "    WHERE sex != 'NA'\n",
    "    GROUP BY sex;\n",
    "    \n",
    "    \"\"\"\n",
    ").toPandas()"
   ]
  },
  {
   "cell_type": "code",
   "execution_count": 122,
   "id": "99479379-f669-4c38-885f-1edc3a990b01",
   "metadata": {},
   "outputs": [
    {
     "data": {
      "image/png": "[encoded data removed]",
      "text/plain": [
       "<Figure size 640x480 with 1 Axes>"
      ]
     },
     "metadata": {},
     "output_type": "display_data"
    }
   ],
   "source": [
    "sns.barplot(\n",
    "    data=sex_count,\n",
    "    x='sex',\n",
    "    y='count'\n",
    ")\n",
    "plt.show()"
   ]
  },
  {
   "cell_type": "code",
   "execution_count": 115,
   "id": "6dd97e8a-1860-492e-ab32-59cc34c3ce6f",
   "metadata": {},
   "outputs": [],
   "source": [
    "species_sex_count = spark.sql(\n",
    "    \"\"\"\n",
    "    SELECT species, sex, COUNT(*) as count\n",
    "    FROM penguins\n",
    "    WHERE sex != 'NA' OR sex = 'male'\n",
    "    GROUP BY 1, 2\n",
    "    ORDER BY 1;\n",
    "    \"\"\"\n",
    ").toPandas()"
   ]
  },
  {
   "cell_type": "code",
   "execution_count": 116,
   "id": "18a9287e-13ce-46d4-94a5-5cc53bff2a67",
   "metadata": {},
   "outputs": [
    {
     "data": {
      "text/html": [
       "<div>\n",
       "<style scoped>\n",
       "    .dataframe tbody tr th:only-of-type {\n",
       "        vertical-align: middle;\n",
       "    }\n",
       "\n",
       "    .dataframe tbody tr th {\n",
       "        vertical-align: top;\n",
       "    }\n",
       "\n",
       "    .dataframe thead th {\n",
       "        text-align: right;\n",
       "    }\n",
       "</style>\n",
       "<table border=\"1\" class=\"dataframe\">\n",
       "  <thead>\n",
       "    <tr style=\"text-align: right;\">\n",
       "      <th></th>\n",
       "      <th>species</th>\n",
       "      <th>sex</th>\n",
       "      <th>count</th>\n",
       "    </tr>\n",
       "  </thead>\n",
       "  <tbody>\n",
       "    <tr>\n",
       "      <th>0</th>\n",
       "      <td>Adelie</td>\n",
       "      <td>male</td>\n",
       "      <td>73</td>\n",
       "    </tr>\n",
       "    <tr>\n",
       "      <th>1</th>\n",
       "      <td>Adelie</td>\n",
       "      <td>female</td>\n",
       "      <td>73</td>\n",
       "    </tr>\n",
       "    <tr>\n",
       "      <th>2</th>\n",
       "      <td>Chinstrap</td>\n",
       "      <td>male</td>\n",
       "      <td>34</td>\n",
       "    </tr>\n",
       "    <tr>\n",
       "      <th>3</th>\n",
       "      <td>Chinstrap</td>\n",
       "      <td>female</td>\n",
       "      <td>34</td>\n",
       "    </tr>\n",
       "    <tr>\n",
       "      <th>4</th>\n",
       "      <td>Gentoo</td>\n",
       "      <td>female</td>\n",
       "      <td>58</td>\n",
       "    </tr>\n",
       "    <tr>\n",
       "      <th>5</th>\n",
       "      <td>Gentoo</td>\n",
       "      <td>male</td>\n",
       "      <td>61</td>\n",
       "    </tr>\n",
       "  </tbody>\n",
       "</table>\n",
       "</div>"
      ],
      "text/plain": [
       "     species     sex  count\n",
       "0     Adelie    male     73\n",
       "1     Adelie  female     73\n",
       "2  Chinstrap    male     34\n",
       "3  Chinstrap  female     34\n",
       "4     Gentoo  female     58\n",
       "5     Gentoo    male     61"
      ]
     },
     "execution_count": 116,
     "metadata": {},
     "output_type": "execute_result"
    }
   ],
   "source": [
    "species_sex_count"
   ]
  },
  {
   "cell_type": "code",
   "execution_count": 118,
   "id": "048a1455-b1fc-437d-bc0d-c34036f4864e",
   "metadata": {},
   "outputs": [
    {
     "data": {
      "image/png": "[encoded data removed]",
      "text/plain": [
       "<Figure size 640x480 with 1 Axes>"
      ]
     },
     "metadata": {},
     "output_type": "display_data"
    }
   ],
   "source": [
    "sns.barplot(\n",
    "    data=species_sex_count,\n",
    "    x='species',\n",
    "    y='count',\n",
    "    hue='sex'\n",
    ")\n",
    "plt.show()"
   ]
  },
  {
   "cell_type": "code",
   "execution_count": 133,
   "id": "7d735708-1d21-412c-a95c-3d062badb5db",
   "metadata": {},
   "outputs": [
    {
     "name": "stdout",
     "output_type": "stream",
     "text": [
      "+---------+----+-----+\n",
      "|  species| sex|count|\n",
      "+---------+----+-----+\n",
      "|Chinstrap|male|   34|\n",
      "|   Gentoo|male|   61|\n",
      "|   Adelie|male|   73|\n",
      "+---------+----+-----+\n",
      "\n"
     ]
    }
   ],
   "source": [
    "spark.sql(\n",
    "    \"\"\"\n",
    "    SELECT species, sex, COUNT(*) as count\n",
    "    FROM penguins\n",
    "    WHERE sex = 'male'\n",
    "    GROUP BY 1, 2;\n",
    "    \"\"\"\n",
    ").show()"
   ]
  },
  {
   "cell_type": "code",
   "execution_count": 134,
   "id": "f4ef6cae-29ce-45f3-b8d5-4db1bbc03c13",
   "metadata": {},
   "outputs": [
    {
     "name": "stdout",
     "output_type": "stream",
     "text": [
      "+---------+------+-----+\n",
      "|  species|   sex|count|\n",
      "+---------+------+-----+\n",
      "|   Gentoo|female|   58|\n",
      "|Chinstrap|female|   34|\n",
      "|   Adelie|female|   73|\n",
      "+---------+------+-----+\n",
      "\n"
     ]
    }
   ],
   "source": [
    "spark.sql(\n",
    "    \"\"\"\n",
    "    SELECT species, sex, COUNT(*) as count\n",
    "    FROM penguins\n",
    "    WHERE sex = 'female'\n",
    "    GROUP BY 1, 2;\n",
    "    \"\"\"\n",
    ").show()"
   ]
  },
  {
   "cell_type": "markdown",
   "id": "835bb880-34d5-41dd-98e4-c6c5dd98c0c9",
   "metadata": {},
   "source": [
    "## ¿En promedio cual es largo de las aletas de un pinguino dependiendo a su especie?"
   ]
  },
  {
   "cell_type": "code",
   "execution_count": 149,
   "id": "57729014-41a3-4d9a-9494-c9d696262b52",
   "metadata": {},
   "outputs": [
    {
     "data": {
      "text/html": [
       "<div>\n",
       "<style scoped>\n",
       "    .dataframe tbody tr th:only-of-type {\n",
       "        vertical-align: middle;\n",
       "    }\n",
       "\n",
       "    .dataframe tbody tr th {\n",
       "        vertical-align: top;\n",
       "    }\n",
       "\n",
       "    .dataframe thead th {\n",
       "        text-align: right;\n",
       "    }\n",
       "</style>\n",
       "<table border=\"1\" class=\"dataframe\">\n",
       "  <thead>\n",
       "    <tr style=\"text-align: right;\">\n",
       "      <th></th>\n",
       "      <th>species</th>\n",
       "      <th>average</th>\n",
       "    </tr>\n",
       "  </thead>\n",
       "  <tbody>\n",
       "    <tr>\n",
       "      <th>0</th>\n",
       "      <td>Gentoo</td>\n",
       "      <td>217.186992</td>\n",
       "    </tr>\n",
       "    <tr>\n",
       "      <th>1</th>\n",
       "      <td>Adelie</td>\n",
       "      <td>189.953642</td>\n",
       "    </tr>\n",
       "    <tr>\n",
       "      <th>2</th>\n",
       "      <td>Chinstrap</td>\n",
       "      <td>195.823529</td>\n",
       "    </tr>\n",
       "  </tbody>\n",
       "</table>\n",
       "</div>"
      ],
      "text/plain": [
       "     species     average\n",
       "0     Gentoo  217.186992\n",
       "1     Adelie  189.953642\n",
       "2  Chinstrap  195.823529"
      ]
     },
     "execution_count": 149,
     "metadata": {},
     "output_type": "execute_result"
    }
   ],
   "source": [
    "flipper_length_average = spark.sql(\n",
    "    \"\"\"\n",
    "    SELECT species, AVG(flipper_length_mm) AS average\n",
    "    FROM penguins\n",
    "    GROUP BY species;\n",
    "    \"\"\"\n",
    ").toPandas()\n",
    "flipper_length_average"
   ]
  },
  {
   "cell_type": "code",
   "execution_count": 152,
   "id": "80b5f6c9-d27d-4a7e-a298-cd1b0d5ba945",
   "metadata": {},
   "outputs": [
    {
     "data": {
      "image/png": "[encoded data removed]",
      "text/plain": [
       "<Figure size 640x480 with 1 Axes>"
      ]
     },
     "metadata": {},
     "output_type": "display_data"
    }
   ],
   "source": [
    "sns.barplot(\n",
    "    data=flipper_length_average,\n",
    "    x='species',\n",
    "    y='average'\n",
    ")\n",
    "plt.show()"
   ]
  },
  {
   "cell_type": "markdown",
   "id": "77033c48-93b4-405a-be14-cb468bee971b",
   "metadata": {},
   "source": [
    "## ¿Cual es la especie de penguinos en promedio pesa más?"
   ]
  },
  {
   "cell_type": "code",
   "execution_count": 142,
   "id": "431d7aa4-652e-47a2-8230-375227226bf4",
   "metadata": {},
   "outputs": [
    {
     "name": "stdout",
     "output_type": "stream",
     "text": [
      "+---------+------------------+\n",
      "|  species|                 K|\n",
      "+---------+------------------+\n",
      "|   Gentoo| 5.076016260162602|\n",
      "|   Adelie| 3.700662251655629|\n",
      "|Chinstrap|3.7330882352941175|\n",
      "+---------+------------------+\n",
      "\n"
     ]
    }
   ],
   "source": [
    "spark.sql(\n",
    "    \"\"\"\n",
    "    SELECT species, (AVG(body_mass_g) / 1000) AS K\n",
    "    FROM penguins\n",
    "    GROUP BY species;\n",
    "    \"\"\"\n",
    ").show()"
   ]
  },
  {
   "cell_type": "markdown",
   "id": "21d34fc6-38d2-4770-a1dc-1246660d9309",
   "metadata": {},
   "source": [
    "## ¿Qué especie de pinguinos tiene el pico más largo?"
   ]
  },
  {
   "cell_type": "code",
   "execution_count": 145,
   "id": "767edbae-09b6-4b46-95ab-5f6cbe2a3343",
   "metadata": {},
   "outputs": [
    {
     "name": "stdout",
     "output_type": "stream",
     "text": [
      "+---------+-----------------+\n",
      "|  species| avg(bill_length)|\n",
      "+---------+-----------------+\n",
      "|   Gentoo|47.50487803637497|\n",
      "|   Adelie|38.79139047584786|\n",
      "|Chinstrap|48.83382365282844|\n",
      "+---------+-----------------+\n",
      "\n"
     ]
    }
   ],
   "source": [
    "spark.sql(\n",
    "    \"\"\"\n",
    "    SELECT species, AVG(bill_length)\n",
    "    FROM penguins\n",
    "    GROUP BY species;\n",
    "    \"\"\"\n",
    ").show()"
   ]
  },
  {
   "cell_type": "code",
   "execution_count": null,
   "id": "9faa7dbe-1d65-4bcb-8795-2291e97bad46",
   "metadata": {},
   "outputs": [],
   "source": []
  }
 ],
 "metadata": {
  "kernelspec": {
   "display_name": "Python 3 (ipykernel)",
   "language": "python",
   "name": "python3"
  },
  "language_info": {
   "codemirror_mode": {
    "name": "ipython",
    "version": 3
   },
   "file_extension": ".py",
   "mimetype": "text/x-python",
   "name": "python",
   "nbconvert_exporter": "python",
   "pygments_lexer": "ipython3",
   "version": "3.10.8"
  }
 },
 "nbformat": 4,
 "nbformat_minor": 5
}
